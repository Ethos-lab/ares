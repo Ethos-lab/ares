{
 "cells": [
  {
   "cell_type": "markdown",
   "metadata": {},
   "source": [
    "# Ares Demo\n",
    "\n",
    "Example on running Ares."
   ]
  },
  {
   "cell_type": "markdown",
   "metadata": {},
   "source": [
    "## Imports"
   ]
  },
  {
   "cell_type": "code",
   "execution_count": null,
   "metadata": {},
   "outputs": [],
   "source": [
    "import numpy as np\n",
    "import matplotlib.pyplot as plt\n",
    "\n",
    "from ares import construct"
   ]
  },
  {
   "cell_type": "markdown",
   "metadata": {},
   "source": [
    "## Config File\n",
    "\n",
    "For this demo, we'll use a direct dictionary rather than loading a JSON file."
   ]
  },
  {
   "cell_type": "code",
   "execution_count": null,
   "metadata": {},
   "outputs": [],
   "source": [
    "config = {\n",
    "    \"attacker\": {\n",
    "        \"attacks\": [\n",
    "            {\n",
    "                \"type\": \"evasion\",\n",
    "                \"name\": \"ProjectedGradientDescent\",\n",
    "                \"params\": {\n",
    "                    \"norm\": \"inf\",\n",
    "                    \"eps\": 0.03137254901,\n",
    "                    \"eps_step\": 0.00784313725,\n",
    "                    \"num_random_init\": 0,\n",
    "                    \"max_iter\": 1,\n",
    "                    \"targeted\": False,\n",
    "                    \"batch_size\": 1,\n",
    "                    \"verbose\": False\n",
    "                }\n",
    "            }\n",
    "        ]\n",
    "    },\n",
    "    \"defender\": {\n",
    "        \"probabilities\": [0.3, 0.7],\n",
    "        \"models\": [\n",
    "            {\n",
    "                \"file\": \"./data/models/resnet.py\",\n",
    "                \"name\": \"resnet18_nat\",\n",
    "                \"params\": {\n",
    "                    \"num_classes\": 10\n",
    "                },\n",
    "                \"checkpoint\": \"./data/state_dicts/resnet18_nat.pth\"\n",
    "            },\n",
    "            {\n",
    "                \"file\": \"./data/models/resnet.py\",\n",
    "                \"name\": \"resnet18_adv\",\n",
    "                \"params\": {\n",
    "                    \"num_classes\": 10\n",
    "                },\n",
    "                \"checkpoint\": \"./data/state_dicts/resnet18_adv.pth\"\n",
    "            }\n",
    "        ]\n",
    "    },\n",
    "    \"scenario\": {\n",
    "        \"threat_model\": \"whitebox\",\n",
    "        \"num_episodes\": 50,\n",
    "        \"max_rounds\": 50,\n",
    "        \"dataset\": {\n",
    "            \"name\": \"cifar10\",\n",
    "            \"input_shape\": [3, 32, 32],\n",
    "            \"num_classes\": 10,\n",
    "            \"clip_values\": [0, 1],\n",
    "            \"random_noise\": True,\n",
    "            \"dataroot\": \"./data\"\n",
    "        }\n",
    "    }\n",
    "}"
   ]
  },
  {
   "cell_type": "markdown",
   "metadata": {},
   "source": [
    "## Environment\n",
    "\n",
    "Create the attacker, defender, and scenario first. Then initialize the Gym environment using the three components."
   ]
  },
  {
   "cell_type": "code",
   "execution_count": null,
   "metadata": {},
   "outputs": [],
   "source": [
    "# create environment\n",
    "env = construct(config)\n",
    "env"
   ]
  },
  {
   "cell_type": "markdown",
   "metadata": {},
   "source": [
    "## Run Experiment\n",
    "\n",
    "Run the simulation for the number of episodes specified in the execution scenario. Record the number of rounds until the attacker wins for each trial."
   ]
  },
  {
   "cell_type": "code",
   "execution_count": null,
   "metadata": {},
   "outputs": [],
   "source": [
    "episode_rewards = []\n",
    "for episode in range(env.scenario.num_episodes):\n",
    "    print(f'=== Episode {episode + 1} ===')\n",
    "\n",
    "    # initialize environment\n",
    "    observation = env.reset()\n",
    "    x = observation['x']\n",
    "    y = observation['y']\n",
    "    done = False\n",
    "\n",
    "    # run simulation\n",
    "    while not done:\n",
    "        action = {\n",
    "            'x': x,\n",
    "            'y': y,\n",
    "        }\n",
    "        observation, reward, done, info = env.step(action)\n",
    "        x = observation['x_adv']\n",
    "        y_pred = observation['y_pred']\n",
    "        winner = observation['winner']\n",
    "        step_count = info['step_count']\n",
    "\n",
    "        print(f'Step {step_count:2}: ({y[0]} | {y_pred[0]})')\n",
    "\n",
    "    print(f'Game end: {winner} wins after {reward} rounds')\n",
    "    episode_rewards.append(reward)"
   ]
  },
  {
   "cell_type": "markdown",
   "metadata": {},
   "source": [
    "## Statistics\n",
    "\n",
    "Statistics and visualizations for the experiment."
   ]
  },
  {
   "cell_type": "code",
   "execution_count": null,
   "metadata": {},
   "outputs": [],
   "source": [
    "print(episode_rewards)\n",
    "print(f'min: {np.min(episode_rewards)}, max: {np.max(episode_rewards)}')\n",
    "mean = np.mean(episode_rewards)\n",
    "stddev = np.std(episode_rewards)\n",
    "median = np.median(episode_rewards)\n",
    "print(f'mean: {mean}, stddev: {stddev:.3f}, median: {median}')\n",
    "\n",
    "plt.hist(episode_rewards)\n",
    "plt.title('Distribution of rounds until attacker win')\n",
    "plt.show()"
   ]
  }
 ],
 "metadata": {
  "interpreter": {
   "hash": "b7e7bf9a588116d91aab463fc7d12342905ebd974b231a50b8fc72ddeca613b8"
  },
  "kernelspec": {
   "display_name": "Python 3.7.12 ('venv': venv)",
   "language": "python",
   "name": "python3"
  },
  "language_info": {
   "codemirror_mode": {
    "name": "ipython",
    "version": 3
   },
   "file_extension": ".py",
   "mimetype": "text/x-python",
   "name": "python",
   "nbconvert_exporter": "python",
   "pygments_lexer": "ipython3",
   "version": "3.7.13"
  },
  "orig_nbformat": 4
 },
 "nbformat": 4,
 "nbformat_minor": 2
}
