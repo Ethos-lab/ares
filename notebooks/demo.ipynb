{
 "cells": [
  {
   "cell_type": "markdown",
   "metadata": {},
   "source": [
    "# Ares Demo\n",
    "\n",
    "Example on running Ares."
   ]
  },
  {
   "cell_type": "markdown",
   "metadata": {},
   "source": [
    "## Imports"
   ]
  },
  {
   "cell_type": "code",
   "execution_count": null,
   "metadata": {},
   "outputs": [],
   "source": [
    "import gym\n",
    "import numpy as np\n",
    "import matplotlib.pyplot as plt\n",
    "import torch\n",
    "\n",
    "from ares import utils"
   ]
  },
  {
   "cell_type": "markdown",
   "metadata": {},
   "source": [
    "## Config File\n",
    "\n",
    "For this demo, we'll use a direct dictionary rather than loading a JSON file."
   ]
  },
  {
   "cell_type": "code",
   "execution_count": null,
   "metadata": {},
   "outputs": [],
   "source": [
    "# config = utils.get_config('/path/to/config.json')\n",
    "\n",
    "config = {\n",
    "    'attacker': {\n",
    "        'attack_type': 'evasion',\n",
    "        'attack_name': 'ProjectedGradientDescent',\n",
    "        'attack_params': {\n",
    "            'norm': 'inf',\n",
    "            'eps': 0.03137254901,\n",
    "            'eps_step': 0.00784313725,\n",
    "            'num_random_init': 0,\n",
    "            'max_iter': 1,\n",
    "            'targeted': False,\n",
    "            'batch_size': 1,\n",
    "            'verbose': False\n",
    "        }\n",
    "    },\n",
    "    'defender': {\n",
    "        'probabilities': [0.3, 0.7],\n",
    "        'models': [\n",
    "            {\n",
    "                'model_file': '../downloads/models/resnet.py',\n",
    "                'model_name': 'resnet18_nat',\n",
    "                'model_params': {\n",
    "                    'num_classes': 10\n",
    "                },\n",
    "                'model_state': '../downloads/state_dicts/resnet18_nat.pth',\n",
    "                'classifier_type': 'PyTorchClassifier',\n",
    "                'classifier_params': {\n",
    "                    'loss': 'torch.nn.CrossEntropyLoss',\n",
    "                    'input_shape': [3, 32, 32],\n",
    "                    'nb_classes': 10,\n",
    "                    'clip_values': [0, 1]\n",
    "                }\n",
    "            },\n",
    "            {\n",
    "                'model_file': '../downloads/models/resnet.py',\n",
    "                'model_name': 'resnet18_adv',\n",
    "                'model_params': {\n",
    "                    'num_classes': 10\n",
    "                },\n",
    "                'model_state': '../downloads/state_dicts/resnet18_adv.pth',\n",
    "                'classifier_type': 'PyTorchClassifier',\n",
    "                'classifier_params': {\n",
    "                    'loss': 'torch.nn.CrossEntropyLoss',\n",
    "                    'input_shape': [3, 32, 32],\n",
    "                    'nb_classes': 10,\n",
    "                    'clip_values': [0, 1]\n",
    "                }\n",
    "            }\n",
    "        ]\n",
    "    },\n",
    "    'scenario': {\n",
    "        'threat_model': 'white_box',\n",
    "        'num_agents': 2,\n",
    "        'reward': 0,\n",
    "        'dataroot': '../downloads',\n",
    "        'random_noise': True,\n",
    "        'num_episodes': 50,\n",
    "        'num_trials': 50\n",
    "    }\n",
    "}"
   ]
  },
  {
   "cell_type": "markdown",
   "metadata": {},
   "source": [
    "## Environment\n",
    "\n",
    "Create the attacker, defender, and scenario first. Then initialize the Gym environment using the three components."
   ]
  },
  {
   "cell_type": "code",
   "execution_count": null,
   "metadata": {},
   "outputs": [],
   "source": [
    "device = torch.device('cuda' if torch.cuda.is_available() else 'cpu')\n",
    "\n",
    "# create components\n",
    "defender_agent = utils.get_defender_agent(config, device)\n",
    "attacker_agent = utils.get_attacker_agent(config)\n",
    "execution_scenario = utils.get_execution_scenario(config)\n",
    "# create environment\n",
    "env = gym.make('AresEnv-v0', attacker=attacker_agent, defender=defender_agent, scenario=execution_scenario)"
   ]
  },
  {
   "cell_type": "markdown",
   "metadata": {},
   "source": [
    "## Run Experiment\n",
    "\n",
    "Run the simulation for the number of trials specified in the execution scenario. Record the number of rounds until the attacker wins for each trial."
   ]
  },
  {
   "cell_type": "code",
   "execution_count": null,
   "metadata": {},
   "outputs": [],
   "source": [
    "counts = []\n",
    "for trial in range(execution_scenario.num_trials):\n",
    "    print(f'=== Trial {trial + 1} ===')\n",
    "\n",
    "    # initialize environment\n",
    "    observation = env.reset()\n",
    "    image = observation['image']\n",
    "    label = observation['label']\n",
    "    done = False\n",
    "    print(f'True label: {label[0]}')\n",
    "    print('Preds: ', end='')\n",
    "\n",
    "    # run simulation\n",
    "    while not done:\n",
    "        action = {\n",
    "            'image': image,\n",
    "            'label': label,\n",
    "        }\n",
    "        observation, reward, done, info = env.step(action)\n",
    "        image = observation['image_adv']\n",
    "        pred = observation['pred']\n",
    "        winner = observation['winner']\n",
    "        episode = info['step_count']\n",
    "\n",
    "        print(f'{pred[0]}, ', end='')\n",
    "\n",
    "    print(f'\\nGame end: {winner} wins after {episode} rounds')\n",
    "    counts.append(episode)"
   ]
  },
  {
   "cell_type": "markdown",
   "metadata": {},
   "source": [
    "## Statistics\n",
    "\n",
    "Statistics and visualizations for the experiment."
   ]
  },
  {
   "cell_type": "code",
   "execution_count": null,
   "metadata": {},
   "outputs": [],
   "source": [
    "print(counts)\n",
    "print(f'min: {np.min(counts)}, max: {np.max(counts)}')\n",
    "print(f'mean: {np.mean(counts)}, stddev: {np.std(counts):.3f}, median: {np.median(counts)}')\n",
    "\n",
    "plt.hist(counts)\n",
    "plt.title(\"Distribution of # of Rounds it took for Attacker Win\")\n",
    "plt.show()"
   ]
  }
 ],
 "metadata": {
  "interpreter": {
   "hash": "b7e7bf9a588116d91aab463fc7d12342905ebd974b231a50b8fc72ddeca613b8"
  },
  "kernelspec": {
   "display_name": "Python 3.7.12 ('venv': venv)",
   "language": "python",
   "name": "python3"
  },
  "language_info": {
   "codemirror_mode": {
    "name": "ipython",
    "version": 3
   },
   "file_extension": ".py",
   "mimetype": "text/x-python",
   "name": "python",
   "nbconvert_exporter": "python",
   "pygments_lexer": "ipython3",
   "version": "3.7.0"
  },
  "orig_nbformat": 4
 },
 "nbformat": 4,
 "nbformat_minor": 2
}
